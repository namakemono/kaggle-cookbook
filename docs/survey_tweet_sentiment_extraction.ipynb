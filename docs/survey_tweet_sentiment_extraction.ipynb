{
 "cells": [
  {
   "cell_type": "markdown",
   "metadata": {},
   "source": [
    "# Tweet Sentiment Extraction\n",
    "\n",
    "- ツイートから感情を反映している箇所の抜粋\n",
    "- https://www.kaggle.com/c/tweet-sentiment-extraction\n",
    "\n",
    "## 概要\n",
    "\n",
    "### データセット\n",
    "\n",
    "- columns\n",
    "    - text\n",
    "    - selected_text(trainのみ)\n",
    "        - この部分を類推する\n",
    "    - sentiment\n",
    "        - neutral, negative, positiveの3種類\n",
    "\n",
    "### 評価指標\n",
    "\n",
    "- 単語レベルでのJaccard score\n",
    "\n",
    "### 制約条件\n",
    "\n",
    "- CPU/GPUともに3時間以内で実行可能なスクリプトとして提出\n",
    "- インターネットへのアクセス不可"
   ]
  },
  {
   "cell_type": "markdown",
   "metadata": {
    "ExecuteTime": {
     "end_time": "2021-03-14T01:28:38.243503Z",
     "start_time": "2021-03-14T01:28:38.235042Z"
    }
   },
   "source": [
    "### サンプル\n",
    "\n",
    "#### Train data \n",
    "\n",
    "| text | selected_text | sentiment |\n",
    "| --- | ----- | ------ |\n",
    "| I`d have responded, if I were going | I`d have responded, if I were going | neutral |\n",
    "| Sooo SAD I will miss you here in San Diego!!! | Sooo SAD | negative | \n",
    "| 2am feedings for the baby are fun when he is all smiles and coos | fun | positive |\n",
    "\n",
    "#### Test data \n",
    "\n",
    "`selected_text` 部分を当てる\n",
    "\n",
    "| text | sentiment |\n",
    "| --- | ------ |\n",
    "| I`d have responded, if I were going | neutral |\n",
    "| Sooo SAD I will miss you here in San Diego!!! | negative | \n",
    "| 2am feedings for the baby are fun when he is all smiles and coos | positive |"
   ]
  },
  {
   "cell_type": "markdown",
   "metadata": {
    "ExecuteTime": {
     "end_time": "2021-03-14T03:49:49.254528Z",
     "start_time": "2021-03-14T03:49:49.228986Z"
    }
   },
   "source": [
    "## 予備知識\n",
    "\n",
    "- Transformer algorithms\n",
    "    - RoBERTa\n",
    "    - BERTweet\n",
    "    - XLNet\n",
    "    - DistillRoBERTa\n",
    "- NLP tasks\n",
    "    - squad\n"
   ]
  },
  {
   "cell_type": "markdown",
   "metadata": {},
   "source": [
    "## EDA\n",
    "\n",
    "- https://www.kaggle.com/tanulsingh077/twitter-sentiment-extaction-analysis-eda-and-model"
   ]
  },
  {
   "cell_type": "markdown",
   "metadata": {},
   "source": [
    "### スターターキット\n",
    "\n",
    "- https://www.kaggle.com/nkoprowicz/a-simple-solution-using-only-word-counts/notebook"
   ]
  },
  {
   "cell_type": "markdown",
   "metadata": {},
   "source": [
    "## コンペ固有の知識"
   ]
  },
  {
   "cell_type": "markdown",
   "metadata": {},
   "source": [
    "## 基本的なアプローチ\n",
    "\n",
    "- NER\n",
    "\n",
    "- 抜粋したい文章の開始/終了位置を予測する\n"
   ]
  },
  {
   "cell_type": "markdown",
   "metadata": {},
   "source": [
    "## ❏ このコンペ固有のトリック\n",
    "\n",
    "- ラベルミスの推定\n",
    "\n",
    "<img src=\"https://www.googleapis.com/download/storage/v1/b/kaggle-user-content/o/inbox%2F436401%2F1bcbc6606aa7a3e112698c5ddfac12ad%2FScreen%20Shot%202020-06-16%20at%205.37.10%20PM.png?generation=1592354249239961&alt=media\" width=\"400\">\n",
    "\n",
    "- \"goona miss every\"の抜粋でなぜか\"onna\"しかないなどあった．"
   ]
  },
  {
   "cell_type": "markdown",
   "metadata": {},
   "source": [
    "## ❏ スターターキット\n"
   ]
  },
  {
   "cell_type": "markdown",
   "metadata": {},
   "source": [
    "## ❏ Top Solutions\n",
    "\n",
    "- 1st - https://www.kaggle.com/c/tweet-sentiment-extraction/discussion/159477\n",
    "    - architecture\n",
    "        - 1st level\n",
    "        - 2nd level\n",
    "    - 1st level\n",
    "        - models\n",
    "            - <font color=\"red\">RoBERTa-base-squad2</font>, RoBERTa-large-squad2, DistilRoBERta-base, XLNet-base-cased\n",
    "     - 2nd level\n",
    "- 3rd - https://www.kaggle.com/c/tweet-sentiment-extraction/discussion/159269\n",
    "    - code:\n",
    "        https://github.com/suicao/tweet-extraction/\n",
    "    - key ideas\n",
    "        - GRU head(文字ベース)\n",
    "        - beam search decoder\n",
    "        - 分岐のルール\n",
    "    - models\n",
    "        - <font color=\"red\">RoBERTa base</font> + <font color=\"red\">RoBERTa large</font> + <font color=\"red\">BART large</font>\n",
    "- 5th - https://www.kaggle.com/c/tweet-sentiment-extraction/discussion/159268\n",
    "    - models\n",
    "        - <font color=\"red\">RoBERTa</font> & <font color=\"red\">BERTweet</font>\n",
    "    - keyidea\n",
    "        - ラベルミスが結構あったので，正解のラベルになる処理を行ったあとに，またミスするよう書き換えることで性能を改善\n",
    "        - ヒューマンエラーを予測するコンペ\n",
    "- 7th - https://www.kaggle.com/c/tweet-sentiment-extraction/discussion/159245\n",
    "    - models\n",
    "        - <font color=\"red\">RoBERTa-base</font>\n",
    "- 11th - https://www.kaggle.com/c/tweet-sentiment-extraction/discussion/159440\n",
    "    - tokenization\n",
    "        - pass\n",
    "    - model\n",
    "        - pass\n",
    "- 13th - https://www.kaggle.com/c/tweet-sentiment-extraction/discussion/159505\n",
    "- 15th - https://www.kaggle.com/c/tweet-sentiment-extraction/discussion/159246"
   ]
  },
  {
   "cell_type": "markdown",
   "metadata": {},
   "source": [
    "## ❏ Top Notebooks\n",
    "\n",
    "- 1st. - https://www.kaggle.com/aruchomu/no-sampler-ensemble-normal-sub-0-7363\n",
    "- 2nd - https://www.kaggle.com/hiromoon166/inference-8models-seed100101-bucketing-2-ver2\n",
    "- 3rd - https://www.kaggle.com/suicaokhoailang/final-sub-tweet\n",
    "- 7th - https://www.kaggle.com/naivelamb/roberta-base-ensemble\n",
    "- 15th - https://www.kaggle.com/cpmpml/ensemble"
   ]
  },
  {
   "cell_type": "markdown",
   "metadata": {},
   "source": [
    "## その他の役立つコードやディスカッション\n",
    "\n",
    "- https://www.kaggle.com/abhishek/super-duper-fast-pytorch-tpu-kernel\n",
    "    - RoBERTaの5Foldを30分でトレーニングする方法"
   ]
  },
  {
   "cell_type": "markdown",
   "metadata": {},
   "source": [
    "## 関連コンペ\n",
    "\n",
    "- [Jigsaw Multilingual Toxic Comment Classification](https://www.kaggle.com/c/jigsaw-multilingual-toxic-comment-classification)_\n",
    "    - 毒っ気のある文章かどうかの判定\n",
    "    - 様々な言語が含まれていることが特徴\n",
    "    - TPUに慣れ親しんでもらうことがコンセプト\n",
    "- [Google QUEST Q&A Labeling](https://www.kaggle.com/c/google-quest-challenge)\n",
    "- [TensorFlow 2.0 Question Answering](https://www.kaggle.com/c/tensorflow2-question-answering)\n",
    "- https://www.kaggle.com/c/jigsaw-unintended-bias-in-toxicity-classification\n",
    "- https://www.kaggle.com/c/gendered-pronoun-resolution\n",
    "- https://www.kaggle.com/c/quora-insincere-questions-classification\n",
    "- https://www.kaggle.com/c/jigsaw-toxic-comment-classification-challenge\n",
    "- https://www.kaggle.com/c/quora-question-pairs\n",
    "\n"
   ]
  },
  {
   "cell_type": "markdown",
   "metadata": {},
   "source": [
    "## ライブラリ\n",
    "\n",
    "- [DeText](https://github.com/linkedin/detext)"
   ]
  },
  {
   "cell_type": "code",
   "execution_count": null,
   "metadata": {},
   "outputs": [],
   "source": []
  },
  {
   "cell_type": "code",
   "execution_count": null,
   "metadata": {},
   "outputs": [],
   "source": []
  },
  {
   "cell_type": "code",
   "execution_count": null,
   "metadata": {},
   "outputs": [],
   "source": []
  },
  {
   "cell_type": "code",
   "execution_count": null,
   "metadata": {},
   "outputs": [],
   "source": []
  }
 ],
 "metadata": {
  "kernelspec": {
   "display_name": "Python 3",
   "language": "python",
   "name": "python3"
  },
  "language_info": {
   "codemirror_mode": {
    "name": "ipython",
    "version": 3
   },
   "file_extension": ".py",
   "mimetype": "text/x-python",
   "name": "python",
   "nbconvert_exporter": "python",
   "pygments_lexer": "ipython3",
   "version": "3.6.9"
  }
 },
 "nbformat": 4,
 "nbformat_minor": 4
}
