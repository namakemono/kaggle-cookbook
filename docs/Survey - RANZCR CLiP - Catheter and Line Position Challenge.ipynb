{
 "cells": [
  {
   "cell_type": "markdown",
   "metadata": {},
   "source": [
    "# RANZCR CLiP - Catheter and Line Position Challenge\n",
    "\n",
    "- https://www.kaggle.com/c/ranzcr-clip-catheter-line-classification\n",
    "- カテーテルの配線が正しいかどうか判定"
   ]
  },
  {
   "cell_type": "markdown",
   "metadata": {},
   "source": [
    "## Summary\n",
    "\n",
    "### Dataset\n",
    "\n",
    "- train, test データの件数\n",
    "- クラスの数\n",
    "- どういった問題なのか\n",
    "\n",
    "### Evaluation\n",
    "\n",
    "- 評価指標\n",
    "\n",
    "### 制約条件\n",
    "\n",
    "<hr />\n",
    "\n",
    "### 予備知識\n",
    "\n",
    "\n",
    "### MEMO\n",
    "\n",
    "- このコンペの目新しいところ\n",
    "    - 役立つテクニック\n",
    "    - どういったモデルが使われているか\n",
    "    - 新しいテクニック\n",
    "    - うまく動かなかったテクニック\n",
    "\n",
    "\n",
    "<hr />\n",
    "\n",
    "## Top Solutions\n",
    "\n",
    "- 1st, https://www.kaggle.com/c/ranzcr-clip-catheter-line-classification/discussion/226633\n",
    "\t- https://www.kaggle.com/c/ranzcr-clip-catheter-line-classification/discussion/227128\n",
    "- 6th, https://www.kaggle.com/c/ranzcr-clip-catheter-line-classification/discussion/226616\n",
    "- 7th, https://www.kaggle.com/c/ranzcr-clip-catheter-line-classification/discussion/226621\n",
    "- 10th, https://www.kaggle.com/c/ranzcr-clip-catheter-line-classification/discussion/227103\n",
    "- 11th, https://www.kaggle.com/c/ranzcr-clip-catheter-line-classification/discussion/226557\n",
    "- 16th, https://www.kaggle.com/c/ranzcr-clip-catheter-line-classification/discussion/226565\n",
    "\t- https://www.kaggle.com/c/ranzcr-clip-catheter-line-classification/discussion/226595\n",
    "- 18th, https://www.kaggle.com/c/ranzcr-clip-catheter-line-classification/discussion/226708\n",
    "- 19th, https://www.kaggle.com/c/ranzcr-clip-catheter-line-classification/discussion/226702\n",
    "- 21st, https://www.kaggle.com/c/ranzcr-clip-catheter-line-classification/discussion/226622\n",
    "- 22nd, https://www.kaggle.com/c/ranzcr-clip-catheter-line-classification/discussion/226693\n",
    "- 23rd, https://www.kaggle.com/c/ranzcr-clip-catheter-line-classification/discussion/226715\n",
    "\n",
    "<hr />\n",
    "\n",
    "## Useful Code & Discussions\n",
    "\n",
    "<hr />\n",
    "\n",
    "## 関連コンペ\n",
    "\n",
    "<hr />\n",
    "\n",
    "## References"
   ]
  },
  {
   "cell_type": "code",
   "execution_count": null,
   "metadata": {},
   "outputs": [],
   "source": []
  }
 ],
 "metadata": {
  "kernelspec": {
   "display_name": "Python 3",
   "language": "python",
   "name": "python3"
  },
  "language_info": {
   "codemirror_mode": {
    "name": "ipython",
    "version": 3
   },
   "file_extension": ".py",
   "mimetype": "text/x-python",
   "name": "python",
   "nbconvert_exporter": "python",
   "pygments_lexer": "ipython3",
   "version": "3.7.4"
  }
 },
 "nbformat": 4,
 "nbformat_minor": 2
}
