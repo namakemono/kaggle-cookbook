{
 "cells": [
  {
   "cell_type": "markdown",
   "metadata": {
    "slideshow": {
     "slide_type": "slide"
    }
   },
   "source": [
    "# Survey - Global Wheat Detection\n",
    "\n",
    "- 小麦の穂の位置検出コンペ\n",
    "- https://www.kaggle.com/c/global-wheat-detection\n",
    "\n",
    "<img src=\"https://user-images.githubusercontent.com/846237/112433696-f4133b80-8d85-11eb-9f36-b6d20fdeab3e.png\">\n",
    "\n",
    "## 問題の概要\n",
    "\n",
    "### データセット\n",
    "\n",
    "- 世界各国の小麦が存在し，かなり見た目も異なる\n",
    "- train:\n",
    "    - 3,373枚(穂は147,761箇所)\n",
    "- test:\n",
    "    - 公開されているテストデータは10枚のみ\n",
    "- paper\n",
    "    - https://arxiv.org/pdf/2005.02162.pdf\n",
    "\n",
    "### 評価指標\n",
    "\n",
    "- IoU"
   ]
  },
  {
   "cell_type": "markdown",
   "metadata": {
    "slideshow": {
     "slide_type": "slide"
    }
   },
   "source": [
    "## ❏ 予備知識\n",
    "\n",
    "- 物体検出のおおまかな流れ\n",
    "- Models\n",
    "    - [Yolo v5](https://github.com/ultralytics/yolov5)\n",
    "        - TODO(nishimori-m): スターターキットのリンクを追加する\n",
    "    - EfficientDet\n",
    "    - ResNeSt\n",
    "        - 物体検出でのbackbone\n",
    "            - cf. https://qiita.com/takoroy/items/07c5039ab12b74137626\n",
    "- Toolkit\n",
    "    - [Detectron2](https://github.com/facebookresearch/detectron2)\n",
    "        - Facebook AI Researchによる物体検出ライブラリ\n",
    "    - [MMDetection](https://github.com/open-mmlab/mmdetection)\n",
    "        - 物体検出用のツールボックス\n",
    "            - Faster RCNNやMask RCNNなど様々なベンチマーク用のアルゴリズムが使えるようになっている\n",
    "- Post Processing\n",
    "    - WBF(Weighted boxes fusion)\n",
    "        - https://github.com/ZFTurbo/Weighted-Boxes-Fusion\n",
    "        - 物体検出での矩形情報のアンサンブル方法\n",
    "    - PL(Pseudo Labeling)\n",
    "        - https://www.kaggle.com/ufownl/global-wheat-detection-pseudo-labaling\n",
    "- EMA\n",
    "- FPN\n",
    "- Data Augmentations\n",
    "    - clahe\n",
    "        - ヒストグラムが均等になるようコントラストを調整\n",
    "            - 暗いところの小麦の穂を見えやすくするため?\n",
    "    - mixup\n",
    "        - cf. [新たなdata augmentation手法mixupを試してみた](https://qiita.com/yu4u/items/70aa007346ec73b7ff05)\n",
    "    - CoarseDropout\n",
    "        - cf. https://www.kaggle.com/c/siim-isic-melanoma-classification/discussion/169721\n",
    "     - GridMask\n",
    "         - cf. https://ohke.hateblo.jp/entry/2020/06/27/230000\n",
    " \n",
    " <hr />"
   ]
  },
  {
   "cell_type": "markdown",
   "metadata": {
    "slideshow": {
     "slide_type": "slide"
    }
   },
   "source": [
    "## よく利用されている物体検出アルゴリズム\n",
    "\n",
    "Yolo v5を使えば間違いなさそう(2021年3月時点)\n",
    "\n",
    "- Yolo v5\n",
    "    - PyTorch\n",
    "    - Keras\n",
    "- EfficientDet\n",
    "    - PyTorch\n",
    "    - Keras\n",
    "- Detectron2\n",
    "\n",
    "<hr />\n",
    "\n",
    "- 使われている画像サイズ\n",
    "- data augmentation\n",
    "- loss\n",
    "- optimizer\n",
    "\n"
   ]
  },
  {
   "cell_type": "markdown",
   "metadata": {
    "slideshow": {
     "slide_type": "slide"
    }
   },
   "source": [
    "## コンペ特有の知識\n",
    "\n",
    "- ジグソーパズル\n",
    "    - このコンペでは大きな画像を分割することでデータセットを作成している\n",
    "        - つなぎ合わせることで，性能改善が可能\n",
    "    - cf. https://github.com/lRomul/argus-tgs-salt/blob/master/mosaic/create_mosaic.py\n",
    "    - 塩コンペでも同様のテクニックが有効だった\n",
    "        - https://www.kaggle.com/c/tgs-salt-identification-challenge/overview\n",
    "        \n",
    "<hr />"
   ]
  },
  {
   "cell_type": "markdown",
   "metadata": {
    "slideshow": {
     "slide_type": "slide"
    }
   },
   "source": [
    "## このコンペで効果的なこと\n",
    "\n",
    "- 上位陣のモデルはYolo v5かEfficientDetのほぼ2択\n",
    "- 検出時のしきい値を低く設定(0.1)するとスコアが改善\n",
    "- 1stと2ndはData Augmentationと外部データの差が大きそう\n",
    "\n",
    "## あまり役に立たなかったこと\n"
   ]
  },
  {
   "cell_type": "markdown",
   "metadata": {
    "slideshow": {
     "slide_type": "slide"
    }
   },
   "source": [
    "## 注意事項\n",
    "\n",
    "- MITライセンスのみ可ということで，性能が良いがGNUライセンスであるYolo v5を使って良いか結構揉めた"
   ]
  },
  {
   "cell_type": "markdown",
   "metadata": {
    "ExecuteTime": {
     "end_time": "2021-03-13T22:54:56.687197Z",
     "start_time": "2021-03-13T22:54:56.681051Z"
    },
    "slideshow": {
     "slide_type": "slide"
    }
   },
   "source": [
    "## ❏ EDA"
   ]
  },
  {
   "cell_type": "markdown",
   "metadata": {
    "slideshow": {
     "slide_type": "slide"
    }
   },
   "source": [
    "## ❏ Top Solutions\n",
    "\n",
    "\n",
    "- 1st - https://www.kaggle.com/c/global-wheat-detection/discussion/172418\n",
    "    - code\n",
    "        - https://github.com/rwightman/efficientdet-pytorch\n",
    "    - dataset\n",
    "        - image solution\n",
    "            - 1024x1024 for EfficientDet D7(Fold 0,1,2,3,4)\n",
    "            - 768x768 for EfficientDet D7(Fold 1, 3)\n",
    "            - 512x512 for EfficientDet D5(Fold 4)\n",
    "        - external data\n",
    "            - https://www.kaggle.com/c/global-wheat-detection/discussion/164346)\n",
    "            - https://plantimages.nottingham.ac.uk/\n",
    "        - cleaning\n",
    "            - 縦横のどちらかが10px以下の矩形は除外\n",
    "    - models\n",
    "        - <font color='red'>EfficientDet D5&D7</font>, <font color='red'>Faster RCNN FPN</font>\n",
    "    - train\n",
    "        - batch size\n",
    "            - 8: EfficientDet D7(image size: 768)\n",
    "            - 20: Faster FPN ResNet 152(image size: 1024)\n",
    "        - optimizer\n",
    "            - adam for EfficientDet\n",
    "                - learning rate: 5e-4\n",
    "            - sgd for FasterRCNN\n",
    "                - learning rate: 5e-3\n",
    "        - LR scheduler:\n",
    "            - cosine-annealing\n",
    "        - augmentation\n",
    "            - Custom mosaic augmentation\n",
    "            - MixUp\n",
    "    - ensemble\n",
    "        - 8 TTA(vflip x hflip x rotate90)"
   ]
  },
  {
   "cell_type": "markdown",
   "metadata": {
    "slideshow": {
     "slide_type": "slide"
    }
   },
   "source": [
    "- 2nd - https://www.kaggle.com/c/global-wheat-detection/discussion/175961\n",
    "    - code\n",
    "        - https://github.com/liaopeiyuan/TransferDet\n",
    "    - model\n",
    "        - <font color='red'>EfficientDet - D6</font>(pretrained w/ COCO dataset)\n",
    "            - D4〜D7まで試してD6が性能が一番良かった\n",
    "    - dataset\n",
    "        - image resolution: 1024x1024\n",
    "    - train\n",
    "        - augmentation\n",
    "            - crop, hue, random brightness/contrast\n",
    "            - to gray\n",
    "            - vertical and horizontal flip\n",
    "            - random rotate 90\n",
    "            - cutout"
   ]
  },
  {
   "cell_type": "markdown",
   "metadata": {
    "slideshow": {
     "slide_type": "slide"
    }
   },
   "source": [
    "- 3rd - https://www.kaggle.com/c/global-wheat-detection/discussion/179055\n",
    "    - code\n",
    "        - https://github.com/ufownl/global-wheat-detection\n",
    "    - model\n",
    "        - <font color='red'>Yolo v5</font>\n",
    "            - backbone: Darknet 53\n",
    "    - train\n",
    "        - max epochs: 9\n",
    "        - learning rate: 0.001\n",
    "        - batch size: 8\n",
    "        - image resolution: 512x512\n",
    "        - threshold: 0.1(物体検出のためのしきい値)\n",
    "        - pseudo labeling\n",
    "            - cf. https://www.kaggle.com/ufownl/global-wheat-detection-pseudo-labaling\n",
    "    - post processing\n",
    "        - TTAにWBF(Weighted boxes fusion)を利用"
   ]
  },
  {
   "cell_type": "markdown",
   "metadata": {
    "slideshow": {
     "slide_type": "slide"
    }
   },
   "source": [
    "- 5th - https://www.kaggle.com/c/global-wheat-detection/discussion/172458\n",
    "    - blog(日本語)\n",
    "        - https://acro-engineer.hatenablog.com/entry/2020/08/21/175617\n",
    "    - dataset\n",
    "        - image resolution: 1024x1024\n",
    "    - models\n",
    "        - <font color='red'>EfficientDet D3 - D5</font>\n",
    "    - train\n",
    "        - 5 folds\n",
    "        - optimizer: AdamW\n",
    "        - max epoichs: 100\n",
    "        - batch size: 640\n",
    "        - pseudo labeling\n",
    "        - augmentation:\n",
    "            - mixup, mosaic, scale\n",
    "            - hue, brightness\n",
    "            - grid mask\n",
    "                - cf. https://arxiv.org/abs/2001.04086\n",
    "    - misc\n",
    "        - threshold: 検出時のしきい値を0.1にすれば，0.695出ていたらしい"
   ]
  },
  {
   "cell_type": "markdown",
   "metadata": {
    "slideshow": {
     "slide_type": "slide"
    }
   },
   "source": [
    "- 9th - https://www.kaggle.com/c/global-wheat-detection/discussion/172569\n",
    "    - code: \n",
    "        - https://github.com/amirassov/kaggle-global-wheat-detection\n",
    "    - dataset\n",
    "        - external data\n",
    "            - https://www.kaggle.com/c/global-wheat-detection/discussion/164346\n",
    "   　- model\n",
    "        - <font color='red'>MMDetection</font> \n",
    "            - cf. https://github.com/open-mmlab/mmdetection\n",
    "    - train:\n",
    "        - augmentaion\n",
    "            - hflip, scale, shift, rotate90\n",
    "            - brightness/contrast, hue saturation, rgb shift\n",
    "            - random gamma\n",
    "            - clahe\n",
    "            - blur, motion blur\n",
    "            - gauss noise\n",
    "            - image compression\n",
    "            - coarse dropout"
   ]
  },
  {
   "cell_type": "markdown",
   "metadata": {
    "slideshow": {
     "slide_type": "slide"
    }
   },
   "source": [
    "- 16th - https://www.kaggle.com/c/global-wheat-detection/discussion/172567\n",
    "    - train\n",
    "        - augmentaiton\n",
    "            - scale, mosaic, mixup, crop, cutout, hue, brightness, clahe"
   ]
  },
  {
   "cell_type": "markdown",
   "metadata": {
    "slideshow": {
     "slide_type": "slide"
    }
   },
   "source": [
    "## ❏ Top Notebooks\n",
    "\n",
    "- 2nd, https://www.kaggle.com/alexanderliao/effdet-d6-pl-s-bn-r-bb-a3-usa-eval-94-13-db\n",
    "    - EfficientDet - D6\n",
    "- 3rd, https://www.kaggle.com/x2x21x21x21/3rd-place-solution\n",
    "- 6th - https://www.kaggle.com/stonewst98/what-a-pity-only-0-0001-away-from-0-77\n",
    "    - Effficient Det\n",
    "- 9th - https://www.kaggle.com/amiras/pseudo-ensemble-detectors-3-st-universenet-r10\n",
    "- 13th - https://www.kaggle.com/dpyrtfq2372/efficientdet-with-double-psudo-labeling"
   ]
  },
  {
   "cell_type": "markdown",
   "metadata": {
    "slideshow": {
     "slide_type": "slide"
    }
   },
   "source": [
    "## ❏ Key ideas\n",
    "\n",
    "### Custom mosaic augmentation\n",
    "\n",
    "- cf. https://www.kaggle.com/c/global-wheat-detection/discussion/172418\n",
    "- 1stの方が試した方法\n",
    "- CutMixの代わりに利用\n"
   ]
  },
  {
   "cell_type": "markdown",
   "metadata": {
    "slideshow": {
     "slide_type": "slide"
    }
   },
   "source": [
    "### Mixup\n",
    "\n",
    "\n",
    "- cf. https://www.kaggle.com/c/global-wheat-detection/discussion/172418"
   ]
  },
  {
   "cell_type": "markdown",
   "metadata": {
    "ExecuteTime": {
     "end_time": "2021-03-14T06:54:04.158966Z",
     "start_time": "2021-03-14T06:54:04.150877Z"
    },
    "slideshow": {
     "slide_type": "slide"
    }
   },
   "source": [
    "### Pseudo labeling\n",
    "\n"
   ]
  },
  {
   "cell_type": "markdown",
   "metadata": {
    "slideshow": {
     "slide_type": "slide"
    }
   },
   "source": [
    "<hr>\n",
    "\n",
    "## まとめ - 物体検出で性能を上げる方法\n",
    "\n",
    "- Yolo v5を使う\n",
    "- Pseudo Labelingを使う"
   ]
  },
  {
   "cell_type": "markdown",
   "metadata": {
    "ExecuteTime": {
     "end_time": "2021-03-14T06:09:31.302636Z",
     "start_time": "2021-03-14T06:09:31.295303Z"
    },
    "slideshow": {
     "slide_type": "slide"
    }
   },
   "source": [
    "## 疑問\n",
    "\n",
    "- 胸部X線でもMixupって使える？(画像を縦半分とかでぶった切ってつないでもOK?)"
   ]
  },
  {
   "cell_type": "markdown",
   "metadata": {
    "slideshow": {
     "slide_type": "slide"
    }
   },
   "source": [
    "## References\n",
    "\n",
    "- https://www.kaggle.com/nvnnghia/yolov5-pseudo-labeling/data\n",
    "    - Yolo v5 + Pseudo Labelingで高スコアを記録しているコード"
   ]
  },
  {
   "cell_type": "markdown",
   "metadata": {
    "slideshow": {
     "slide_type": "skip"
    }
   },
   "source": [
    "## TODO\n",
    "\n",
    "- 各種の項目を別々に書くだけだと本家を見たほうが早いしわかりやすいだけなので意味がない．\n",
    "     - 機能ごとに区切ってどのように使われているかを調べまとめるようにする\n",
    "     - 自分がコードをスクラッチで組む際に使いやすいフォーマットにする"
   ]
  }
 ],
 "metadata": {
  "celltoolbar": "Slideshow",
  "kernelspec": {
   "display_name": "Python 3",
   "language": "python",
   "name": "python3"
  },
  "language_info": {
   "codemirror_mode": {
    "name": "ipython",
    "version": 3
   },
   "file_extension": ".py",
   "mimetype": "text/x-python",
   "name": "python",
   "nbconvert_exporter": "python",
   "pygments_lexer": "ipython3",
   "version": "3.7.4"
  }
 },
 "nbformat": 4,
 "nbformat_minor": 4
}
