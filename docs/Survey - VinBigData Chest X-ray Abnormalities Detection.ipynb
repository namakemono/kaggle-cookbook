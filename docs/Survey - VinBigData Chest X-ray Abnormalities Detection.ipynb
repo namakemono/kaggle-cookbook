{
 "cells": [
  {
   "cell_type": "markdown",
   "metadata": {},
   "source": [
    "# VinBigData Chest X-ray Abnormalities Detection\n",
    "\n",
    "\n",
    "## 要点\n",
    "\n",
    "\n",
    "## 概要\n",
    "\n",
    "### データセット\n",
    "\n",
    "### 評価指標\n"
   ]
  },
  {
   "cell_type": "markdown",
   "metadata": {},
   "source": [
    "## 予備知識\n",
    "\n",
    "- Toolkit\n",
    "    - MMDetection\n",
    "- Boxes fusion\n",
    "    - WBF\n",
    "        - https://github.com/ZFTurbo/Weighted-Boxes-Fusion\n"
   ]
  },
  {
   "cell_type": "markdown",
   "metadata": {},
   "source": [
    "### EDA\n",
    "\n"
   ]
  },
  {
   "cell_type": "markdown",
   "metadata": {},
   "source": [
    "## 大まかな流れ\n",
    "\n",
    "- 正常所見と異常所見の2種類をクラス分類する\n",
    "- 異常所見に対しては，異常箇所の検証を行う"
   ]
  },
  {
   "cell_type": "markdown",
   "metadata": {},
   "source": [
    "## 知見\n",
    "\n",
    "### 役立つカーネル\n",
    "\n",
    "### 理解に役立つ\n",
    "\n",
    "### 役立つ技術\n",
    "\n",
    "- Bboxの信頼スコアの順序は重要\n",
    "    - https://www.kaggle.com/c/vinbigdata-chest-xray-abnormalities-detection/discussion/229637\n",
    "\n",
    "### スターターキット\n",
    "\n",
    "### 新しい技術\n",
    "\n",
    "### 注目すべき技術"
   ]
  },
  {
   "cell_type": "markdown",
   "metadata": {},
   "source": [
    "## うまくいかなかったこと\n",
    "\n",
    "- "
   ]
  },
  {
   "cell_type": "markdown",
   "metadata": {},
   "source": [
    "\n",
    "## Top Solutions\n",
    "\n",
    "- 1st. https://www.kaggle.com/c/vinbigdata-chest-xray-abnormalities-detection/discussion/229724\n",
    "- 2nd. https://www.kaggle.com/c/vinbigdata-chest-xray-abnormalities-detection/discussion/229696\n",
    "\t- https://www.kaggle.com/c/vinbigdata-chest-xray-abnormalities-detection/discussion/229740\n",
    "- 3rd. https://www.kaggle.com/c/vinbigdata-chest-xray-abnormalities-detection/discussion/229636\n",
    "- 4th. https://www.kaggle.com/c/vinbigdata-chest-xray-abnormalities-detection/discussion/229786\n",
    "- 5th. https://www.kaggle.com/c/vinbigdata-chest-xray-abnormalities-detection/discussion/229711\n",
    "    - 注目すべき点\n",
    "        - なぜCVに比べてLBのスコアが低いかの考察あり\n",
    "- 6th. https://www.kaggle.com/c/vinbigdata-chest-xray-abnormalities-detection/discussion/229770\n",
    "    - classification\n",
    "        - models\n",
    "            - EfficientNet B7\n",
    "            - ResNet 200D\n",
    "        - image resolution \n",
    "            - 640x640\n",
    "    - detection\n",
    "        - 注目すべき点\n",
    "            - unhealthyだった場合は0.2乗を信頼スコアに掛けた\n",
    "            - Yolo v5を使わず，EfficientDet D5単体で6位を達成\n",
    "        - models\n",
    "            - EfficientDet D5\n",
    "- 7th. https://www.kaggle.com/c/vinbigdata-chest-xray-abnormalities-detection/discussion/229637\n",
    "    - dataset\n",
    "        - image resolution\n",
    "            - 1024x1024\n",
    "    - detection models\n",
    "    \n",
    "| model        | CV     | public LB | private LB |\n",
    "| --------------- | ------- | ------------- | ----------- |\n",
    "| VFNet        | 0.463 | 0.287     | 0.289     |\n",
    "| Yolo v5       | 0.464 | 0.268    | 0.290     |\n",
    "| EfficientDet | 0.460 | 0.237    | 0.282      | \n",
    "\n",
    "    - classification models\n",
    "        - EfficientNet B4\n",
    "            - 512x512\n",
    "            - 768x768\n",
    "        - DenseNet 201\n",
    "\n",
    "- 8th. https://www.kaggle.com/c/vinbigdata-chest-xray-abnormalities-detection/discussion/229618\n",
    "    - 内容が書かれてない\n",
    "- 10th. https://www.kaggle.com/c/vinbigdata-chest-xray-abnormalities-detection/discussion/229629\n",
    "    - dataset\n",
    "        - image resolution\n",
    "            - 768x768\n",
    "    - detection models\n",
    "        - Yolo v5(5 folds)\n",
    "            - https://www.kaggle.com/awsaf49/vinbigdata-cxr-ad-yolov5-14-class-train\n",
    "        - Faster RCNN\n",
    "            - https://www.kaggle.com/corochann/vinbigdata-detectron2-train\n",
    "        - VFNet(5 folds + 1 random split)\n",
    "            - https://www.kaggle.com/gauravsingh1/mmdet-pytorch-framework-training-fasterrcnn-base\n",
    "    - boxes fusion\n",
    "        - WBF(IoU=0.5, skip box threshold=0.3)\n",
    "- 11th. https://www.kaggle.com/c/vinbigdata-chest-xray-abnormalities-detection/discussion/229615\n",
    "- 12th. https://www.kaggle.com/c/vinbigdata-chest-xray-abnormalities-detection/discussion/229638"
   ]
  },
  {
   "cell_type": "code",
   "execution_count": 1,
   "metadata": {},
   "outputs": [],
   "source": [
    "## References\n",
    "\n",
    "## 次にやったら良さそうなコンペ\n",
    "\n",
    "## 調べる必要がありそうな技術"
   ]
  },
  {
   "cell_type": "code",
   "execution_count": null,
   "metadata": {},
   "outputs": [],
   "source": []
  }
 ],
 "metadata": {
  "kernelspec": {
   "display_name": "Python 3",
   "language": "python",
   "name": "python3"
  },
  "language_info": {
   "codemirror_mode": {
    "name": "ipython",
    "version": 3
   },
   "file_extension": ".py",
   "mimetype": "text/x-python",
   "name": "python",
   "nbconvert_exporter": "python",
   "pygments_lexer": "ipython3",
   "version": "3.7.4"
  }
 },
 "nbformat": 4,
 "nbformat_minor": 2
}
