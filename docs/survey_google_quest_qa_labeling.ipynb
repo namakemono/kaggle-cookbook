{
 "cells": [
  {
   "cell_type": "markdown",
   "metadata": {},
   "source": [
    "# Google QUEST Q&A Labeling\n",
    "\n",
    "https://www.kaggle.com/c/google-quest-challenge/overview\n",
    "\n",
    "<img src=\"https://storage.googleapis.com/kaggle-media/competitions/google-research/human_computable_dimensions_1.png\" width=\"600\">\n",
    "\n",
    "### Dataset\n",
    "\n",
    "### 評価指標\n",
    "\n",
    "- [Spearman's rank correlation coefficient](https://en.wikipedia.org/wiki/Spearman%27s_rank_correlation_coefficient)\n",
    "\n",
    "### 問題の例\n",
    "\n",
    "- 入力\n",
    "- 出力"
   ]
  },
  {
   "cell_type": "markdown",
   "metadata": {
    "ExecuteTime": {
     "end_time": "2021-03-15T03:41:00.521048Z",
     "start_time": "2021-03-15T03:41:00.514887Z"
    }
   },
   "source": [
    "## Top Solutions\n",
    "\n",
    "- 1st - https://www.kaggle.com/c/google-quest-challenge/discussion/129840\n",
    "    - models\n",
    "        - BART\n",
    "    - post processing\n",
    "        - cf. https://www.kaggle.com/c/google-quest-challenge/discussion/118724\n",
    "- 3rd - https://www.kaggle.com/c/google-quest-challenge/discussion/129927\n",
    "- 4th - https://www.kaggle.com/c/google-quest-challenge/discussion/129896\n",
    "- 5th - https://www.kaggle.com/c/google-quest-challenge/discussion/129875\n",
    "- 6th - https://www.kaggle.com/c/google-quest-challenge/discussion/130243\n",
    "    - models\n",
    "        - RoBERTa-base\n",
    "        - XLNet\n",
    "        - Albert\n",
    "        - BERT\n",
    "    - post processing/ensembling\n",
    "- 10th - https://www.kaggle.com/c/google-quest-challenge/discussion/129901\n",
    "- 11th - https://www.kaggle.com/c/google-quest-challenge/discussion/129839\n",
    "- 15h - https://www.kaggle.com/c/google-quest-challenge/discussion/129859\n",
    "- 16th - https://www.kaggle.com/c/google-quest-challenge/discussion/130112\n",
    "\n",
    "\n",
    "## Top Notebooks\n",
    "\n",
    "## 役立つカーネル&ディスカッション"
   ]
  },
  {
   "cell_type": "markdown",
   "metadata": {},
   "source": [
    "## References"
   ]
  },
  {
   "cell_type": "code",
   "execution_count": null,
   "metadata": {},
   "outputs": [],
   "source": []
  }
 ],
 "metadata": {
  "kernelspec": {
   "display_name": "Python 3",
   "language": "python",
   "name": "python3"
  },
  "language_info": {
   "codemirror_mode": {
    "name": "ipython",
    "version": 3
   },
   "file_extension": ".py",
   "mimetype": "text/x-python",
   "name": "python",
   "nbconvert_exporter": "python",
   "pygments_lexer": "ipython3",
   "version": "3.7.4"
  }
 },
 "nbformat": 4,
 "nbformat_minor": 4
}
