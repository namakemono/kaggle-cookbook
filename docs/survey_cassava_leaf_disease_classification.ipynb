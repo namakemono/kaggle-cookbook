{
 "cells": [
  {
   "cell_type": "markdown",
   "metadata": {},
   "source": [
    "## Top Solutions\n",
    "\n",
    "- 1st, https://www.kaggle.com/c/cassava-leaf-disease-classification/discussion/221957\n",
    "    - 3段階\n",
    "        - 1段階目\n",
    "            - ResNext, ViT\n",
    "        - 2段階目\n",
    "            - Stage 1の平均, EfficientNet B4, MobilenetV3\n",
    "        - 3段階目\n",
    "            - 2段階目の合計のargmax\n",
    "- 2nd, https://www.kaggle.com/c/cassava-leaf-disease-classification/discussion/220898\n",
    "    - \n",
    "- 3rd, https://www.kaggle.com/c/cassava-leaf-disease-classification/discussion/221150\n",
    "- 5th, https://www.kaggle.com/c/cassava-leaf-disease-classification/discussion/221249\n",
    "- 10th, https://www.kaggle.com/c/cassava-leaf-disease-classification/discussion/220788\n",
    "- 14th, https://www.kaggle.com/c/cassava-leaf-disease-classification/discussion/220751\n",
    "- 25th, https://www.kaggle.com/c/cassava-leaf-disease-classification/discussion/220651\n",
    "- 36th, https://www.kaggle.com/c/cassava-leaf-disease-classification/discussion/220628\n",
    "- 45th, https://www.kaggle.com/c/cassava-leaf-disease-classification/discussion/220632\n",
    "\n",
    "## References\n",
    "\n",
    "- "
   ]
  }
 ],
 "metadata": {
  "kernelspec": {
   "display_name": "Python 3",
   "language": "python",
   "name": "python3"
  },
  "language_info": {
   "codemirror_mode": {
    "name": "ipython",
    "version": 3
   },
   "file_extension": ".py",
   "mimetype": "text/x-python",
   "name": "python",
   "nbconvert_exporter": "python",
   "pygments_lexer": "ipython3",
   "version": "3.7.4"
  }
 },
 "nbformat": 4,
 "nbformat_minor": 2
}
